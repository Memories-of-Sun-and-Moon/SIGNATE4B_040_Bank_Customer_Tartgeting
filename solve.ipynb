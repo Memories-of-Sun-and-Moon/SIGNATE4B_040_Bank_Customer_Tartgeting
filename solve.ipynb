{
 "cells": [
  {
   "cell_type": "code",
   "execution_count": 1,
   "metadata": {},
   "outputs": [],
   "source": [
    "import pandas as pd\n",
    "import matplotlib.pyplot as plt\n",
    "import seaborn as sns"
   ]
  },
  {
   "cell_type": "code",
   "execution_count": 30,
   "metadata": {},
   "outputs": [],
   "source": [
    "df_train = pd.read_csv('data/train.csv')\n",
    "df_test = pd.read_csv('data/test.csv')"
   ]
  },
  {
   "cell_type": "code",
   "execution_count": 4,
   "metadata": {},
   "outputs": [
    {
     "name": "stdout",
     "output_type": "stream",
     "text": [
      "27100 rows and 18 features in train set\n",
      "18050 rows and 17 features in test set\n"
     ]
    }
   ],
   "source": [
    "print(\"{} rows and {} features in train set\".format(df_train.shape[0], df_train.shape[1]))\n",
    "print(\"{} rows and {} features in test set\".format(df_test.shape[0], df_test.shape[1]))"
   ]
  },
  {
   "cell_type": "code",
   "execution_count": 5,
   "metadata": {},
   "outputs": [
    {
     "name": "stdout",
     "output_type": "stream",
     "text": [
      "id           0\n",
      "age          0\n",
      "job          0\n",
      "marital      0\n",
      "education    0\n",
      "default      0\n",
      "balance      0\n",
      "housing      0\n",
      "loan         0\n",
      "contact      0\n",
      "day          0\n",
      "month        0\n",
      "duration     0\n",
      "campaign     0\n",
      "pdays        0\n",
      "previous     0\n",
      "poutcome     0\n",
      "y            0\n",
      "dtype: int64\n"
     ]
    }
   ],
   "source": [
    "print(df_train.isnull().sum())\n"
   ]
  },
  {
   "cell_type": "code",
   "execution_count": 6,
   "metadata": {},
   "outputs": [
    {
     "name": "stdout",
     "output_type": "stream",
     "text": [
      "id           0\n",
      "age          0\n",
      "job          0\n",
      "marital      0\n",
      "education    0\n",
      "default      0\n",
      "balance      0\n",
      "housing      0\n",
      "loan         0\n",
      "contact      0\n",
      "day          0\n",
      "month        0\n",
      "duration     0\n",
      "campaign     0\n",
      "pdays        0\n",
      "previous     0\n",
      "poutcome     0\n",
      "dtype: int64\n"
     ]
    }
   ],
   "source": [
    "print(df_test.isnull().sum())"
   ]
  },
  {
   "cell_type": "code",
   "execution_count": 7,
   "metadata": {},
   "outputs": [
    {
     "data": {
      "text/plain": [
       "<Axes: xlabel='month', ylabel='count'>"
      ]
     },
     "execution_count": 7,
     "metadata": {},
     "output_type": "execute_result"
    },
    {
     "data": {
      "image/png": "[encoded data removed]",
      "text/plain": [
       "<Figure size 1500x800 with 1 Axes>"
      ]
     },
     "metadata": {},
     "output_type": "display_data"
    }
   ],
   "source": [
    "target_col = \"y\"\n",
    "\n",
    "sns.set(rc={\"figure.figsize\": (15, 8)})\n",
    "sns.countplot(x=\"month\", hue=target_col, data=df_train)"
   ]
  },
  {
   "cell_type": "code",
   "execution_count": 52,
   "metadata": {},
   "outputs": [],
   "source": [
    "data = pd.concat([df_train, df_test], sort=False)\n",
    "\n",
    "# no yes を 0 と 1 に変更\n",
    "data['default'].replace(['no', 'yes'], [0, 1], inplace=True)\n",
    "data['housing'].replace(['no', 'yes'], [0, 1], inplace=True)\n",
    "data['loan'].replace(['no', 'yes'], [0, 1], inplace=True)\n",
    "\n",
    "# クラス分類したいんだけど、まだ扱う術を知らないのでとりあえずバイバイ\n",
    "\n",
    "data['marital'] = data['marital'].map({'married':0, 'single':1, 'divorced':2}).astype(int)\n",
    "data['contact'] = data['contact'].map({'cellular':1,  'unknown':0, 'telephone':2}).astype(int)\n",
    "data['month'] = data['month'].map({'jan':1, 'feb':2, 'mar':3, 'apr':4, 'may':5, 'jun':6, 'jul':7, 'aug':8, 'sep':9, 'oct':10, 'nov':11, 'dec':12}).astype(int)\n",
    "data['education'] = data['education'].map({'primary':1, 'secondary':2, 'tertiary':3, 'unknown':0})\n",
    "\n",
    "# jobは多すぎるのでsklearnに頼る（知ってたら他も使うんだけどな）\n",
    "from sklearn.preprocessing import LabelEncoder\n",
    "job_le = LabelEncoder()\n",
    "data['job'] = job_le.fit_transform(data['job'])\n",
    "\n",
    "# pdaysは-1とそれ以外で分ける\n",
    "data.loc[data['pdays']>=0, 'pdays'] = 1 \n",
    "data.loc[~data['pdays']>=0, 'pdays'] = 0\n",
    "\n",
    "# previousは0とそれ以外で分ける\n",
    "data.loc[data['previous']!=0, 'previous'] = 1\n",
    "\n",
    "# 使わない奴を落とす\n",
    "\n",
    "delete_columns = ['balance', 'contact', 'month', 'age', 'day', 'campaign', 'poutcome']\n",
    "\n",
    "data.drop(delete_columns, axis=1, inplace=True)\n"
   ]
  },
  {
   "cell_type": "code",
   "execution_count": 53,
   "metadata": {},
   "outputs": [],
   "source": [
    "from sklearn.model_selection import train_test_split"
   ]
  },
  {
   "cell_type": "code",
   "execution_count": 54,
   "metadata": {},
   "outputs": [
    {
     "name": "stdout",
     "output_type": "stream",
     "text": [
      "   id  job  marital  education  default  housing  loan  duration  pdays  \\\n",
      "0   0    7        0          2        0        1     0       101      1   \n",
      "1   1    2        1          3        0        0     0       158      1   \n",
      "2   2    4        0          3        0        1     0       351      1   \n",
      "3   3    9        0          2        0        1     1       658      1   \n",
      "4   4   10        0          1        0        1     0       177      1   \n",
      "\n",
      "   previous  \n",
      "0         0  \n",
      "1         0  \n",
      "2         0  \n",
      "3         0  \n",
      "4         0  \n"
     ]
    }
   ],
   "source": [
    "train = data[:len(df_train)]\n",
    "test = data[len(df_train):]\n",
    "\n",
    "y_train = train['y'].astype(int)\n",
    "X_train = train.drop('y', axis=1)\n",
    "X_test = test.drop('y', axis=1)\n",
    "\n",
    "print(X_train.head())"
   ]
  },
  {
   "cell_type": "code",
   "execution_count": 55,
   "metadata": {},
   "outputs": [],
   "source": [
    "X_train, X_valid, y_train, y_valid = train_test_split(X_train, y_train, test_size=0.3, random_state=0, stratify=y_train)"
   ]
  },
  {
   "cell_type": "code",
   "execution_count": 56,
   "metadata": {},
   "outputs": [],
   "source": [
    "categorical_features = ['job', 'marital', 'education', 'default', 'housing', 'loan', 'pdays', 'previous']"
   ]
  },
  {
   "cell_type": "code",
   "execution_count": 61,
   "metadata": {},
   "outputs": [
    {
     "name": "stdout",
     "output_type": "stream",
     "text": [
      "[LightGBM] [Info] Number of positive: 1478, number of negative: 17492\n",
      "[LightGBM] [Info] Auto-choosing row-wise multi-threading, the overhead of testing was 0.039556 seconds.\n",
      "You can set `force_row_wise=true` to remove the overhead.\n",
      "And if memory is not enough, you can set `force_col_wise=true`.\n",
      "[LightGBM] [Info] Total Bins 383\n",
      "[LightGBM] [Info] Number of data points in the train set: 18970, number of used features: 8\n",
      "[LightGBM] [Info] [binary:BoostFromScore]: pavg=0.077912 -> initscore=-2.471054\n",
      "[LightGBM] [Info] Start training from score -2.471054\n",
      "Training until validation scores don't improve for 10 rounds\n",
      "Early stopping, best iteration is:\n",
      "[36]\ttraining's binary_logloss: 0.21142\tvalid_1's binary_logloss: 0.237789\n",
      "[LightGBM] [Warning] Unknown parameter: num_interaction\n"
     ]
    }
   ],
   "source": [
    "import lightgbm as lgb\n",
    "\n",
    "lgb_train = lgb.Dataset(X_train, y_train, categorical_feature=categorical_features)\n",
    "\n",
    "lgb_eval = lgb.Dataset(X_valid, y_valid, reference=lgb_train, categorical_feature=categorical_features)\n",
    "\n",
    "params = {\n",
    "    'objective': 'binary'\n",
    "}\n",
    "\n",
    "# https://qiita.com/c60evaporator/items/2b7a2820d575e212bcf4#training-api%E3%81%AE%E5%A0%B4%E5%90%88-2\n",
    "# lightGBMの書き方がちょっと違うらしい\n",
    "\n",
    "model = lgb.train(params, lgb_train, valid_sets=[lgb_train, lgb_eval], num_boost_round=1000, callbacks=[lgb.early_stopping(stopping_rounds=10, verbose=True), lgb.log_evaluation(0)])\n",
    "\n",
    "y_pred = model.predict(X_test, num_interaction=model.best_iteration)"
   ]
  },
  {
   "cell_type": "code",
   "execution_count": 62,
   "metadata": {},
   "outputs": [],
   "source": [
    "y_pred = (y_pred > 0.5).astype(int)"
   ]
  },
  {
   "cell_type": "code",
   "execution_count": 64,
   "metadata": {},
   "outputs": [],
   "source": [
    "from sklearn.metrics import mean_absolute_error\n",
    "from sklearn.model_selection import KFold\n",
    "import lightgbm as lgb\n",
    "import numpy as np"
   ]
  },
  {
   "cell_type": "code",
   "execution_count": 65,
   "metadata": {},
   "outputs": [
    {
     "ename": "KeyError",
     "evalue": "\"None of [Index([    0,     1,     2,     3,     4,     5,     6,     7,     9,    10,\\n       ...\\n       18957, 18958, 18959, 18961, 18962, 18964, 18965, 18967, 18968, 18969],\\n      dtype='int64', length=15176)] are in the [columns]\"",
     "output_type": "error",
     "traceback": [
      "\u001b[0;31m---------------------------------------------------------------------------\u001b[0m",
      "\u001b[0;31mKeyError\u001b[0m                                  Traceback (most recent call last)",
      "\u001b[1;32m/home/mmrz/signate/SIGNATE4B_040_Bank_Customer_Tartgeting/solve.ipynb Cell 15\u001b[0m line \u001b[0;36m1\n\u001b[1;32m     <a href='vscode-notebook-cell://wsl%2Bubuntu-22.04/home/mmrz/signate/SIGNATE4B_040_Bank_Customer_Tartgeting/solve.ipynb#X56sdnNjb2RlLXJlbW90ZQ%3D%3D?line=10'>11</a>\u001b[0m kf \u001b[39m=\u001b[39m KFold(n_splits\u001b[39m=\u001b[39mFOLD, shuffle\u001b[39m=\u001b[39m\u001b[39mTrue\u001b[39;00m, random_state\u001b[39m=\u001b[39m\u001b[39m0\u001b[39m)\n\u001b[1;32m     <a href='vscode-notebook-cell://wsl%2Bubuntu-22.04/home/mmrz/signate/SIGNATE4B_040_Bank_Customer_Tartgeting/solve.ipynb#X56sdnNjb2RlLXJlbW90ZQ%3D%3D?line=12'>13</a>\u001b[0m \u001b[39mfor\u001b[39;00m fold, (train_indices, valid_indices) \u001b[39min\u001b[39;00m \u001b[39menumerate\u001b[39m(kf\u001b[39m.\u001b[39msplit(X_train)):\n\u001b[0;32m---> <a href='vscode-notebook-cell://wsl%2Bubuntu-22.04/home/mmrz/signate/SIGNATE4B_040_Bank_Customer_Tartgeting/solve.ipynb#X56sdnNjb2RlLXJlbW90ZQ%3D%3D?line=13'>14</a>\u001b[0m     X_t, X_v \u001b[39m=\u001b[39m X_train[train_indices], X_train[valid_indices]\n\u001b[1;32m     <a href='vscode-notebook-cell://wsl%2Bubuntu-22.04/home/mmrz/signate/SIGNATE4B_040_Bank_Customer_Tartgeting/solve.ipynb#X56sdnNjb2RlLXJlbW90ZQ%3D%3D?line=14'>15</a>\u001b[0m     y_t, y_v \u001b[39m=\u001b[39m y_train[train_indices], y_train[valid_indices]\n\u001b[1;32m     <a href='vscode-notebook-cell://wsl%2Bubuntu-22.04/home/mmrz/signate/SIGNATE4B_040_Bank_Customer_Tartgeting/solve.ipynb#X56sdnNjb2RlLXJlbW90ZQ%3D%3D?line=16'>17</a>\u001b[0m     lgb_train \u001b[39m=\u001b[39m lgb\u001b[39m.\u001b[39mDataset(X_t, y_t, categorical_feature\u001b[39m=\u001b[39mcategorical_features)\n",
      "File \u001b[0;32m~/signate/SIGNATE4B_040_Bank_Customer_Tartgeting/env/lib/python3.10/site-packages/pandas/core/frame.py:3899\u001b[0m, in \u001b[0;36mDataFrame.__getitem__\u001b[0;34m(self, key)\u001b[0m\n\u001b[1;32m   3897\u001b[0m     \u001b[39mif\u001b[39;00m is_iterator(key):\n\u001b[1;32m   3898\u001b[0m         key \u001b[39m=\u001b[39m \u001b[39mlist\u001b[39m(key)\n\u001b[0;32m-> 3899\u001b[0m     indexer \u001b[39m=\u001b[39m \u001b[39mself\u001b[39;49m\u001b[39m.\u001b[39;49mcolumns\u001b[39m.\u001b[39;49m_get_indexer_strict(key, \u001b[39m\"\u001b[39;49m\u001b[39mcolumns\u001b[39;49m\u001b[39m\"\u001b[39;49m)[\u001b[39m1\u001b[39m]\n\u001b[1;32m   3901\u001b[0m \u001b[39m# take() does not accept boolean indexers\u001b[39;00m\n\u001b[1;32m   3902\u001b[0m \u001b[39mif\u001b[39;00m \u001b[39mgetattr\u001b[39m(indexer, \u001b[39m\"\u001b[39m\u001b[39mdtype\u001b[39m\u001b[39m\"\u001b[39m, \u001b[39mNone\u001b[39;00m) \u001b[39m==\u001b[39m \u001b[39mbool\u001b[39m:\n",
      "File \u001b[0;32m~/signate/SIGNATE4B_040_Bank_Customer_Tartgeting/env/lib/python3.10/site-packages/pandas/core/indexes/base.py:6114\u001b[0m, in \u001b[0;36mIndex._get_indexer_strict\u001b[0;34m(self, key, axis_name)\u001b[0m\n\u001b[1;32m   6111\u001b[0m \u001b[39melse\u001b[39;00m:\n\u001b[1;32m   6112\u001b[0m     keyarr, indexer, new_indexer \u001b[39m=\u001b[39m \u001b[39mself\u001b[39m\u001b[39m.\u001b[39m_reindex_non_unique(keyarr)\n\u001b[0;32m-> 6114\u001b[0m \u001b[39mself\u001b[39;49m\u001b[39m.\u001b[39;49m_raise_if_missing(keyarr, indexer, axis_name)\n\u001b[1;32m   6116\u001b[0m keyarr \u001b[39m=\u001b[39m \u001b[39mself\u001b[39m\u001b[39m.\u001b[39mtake(indexer)\n\u001b[1;32m   6117\u001b[0m \u001b[39mif\u001b[39;00m \u001b[39misinstance\u001b[39m(key, Index):\n\u001b[1;32m   6118\u001b[0m     \u001b[39m# GH 42790 - Preserve name from an Index\u001b[39;00m\n",
      "File \u001b[0;32m~/signate/SIGNATE4B_040_Bank_Customer_Tartgeting/env/lib/python3.10/site-packages/pandas/core/indexes/base.py:6175\u001b[0m, in \u001b[0;36mIndex._raise_if_missing\u001b[0;34m(self, key, indexer, axis_name)\u001b[0m\n\u001b[1;32m   6173\u001b[0m     \u001b[39mif\u001b[39;00m use_interval_msg:\n\u001b[1;32m   6174\u001b[0m         key \u001b[39m=\u001b[39m \u001b[39mlist\u001b[39m(key)\n\u001b[0;32m-> 6175\u001b[0m     \u001b[39mraise\u001b[39;00m \u001b[39mKeyError\u001b[39;00m(\u001b[39mf\u001b[39m\u001b[39m\"\u001b[39m\u001b[39mNone of [\u001b[39m\u001b[39m{\u001b[39;00mkey\u001b[39m}\u001b[39;00m\u001b[39m] are in the [\u001b[39m\u001b[39m{\u001b[39;00maxis_name\u001b[39m}\u001b[39;00m\u001b[39m]\u001b[39m\u001b[39m\"\u001b[39m)\n\u001b[1;32m   6177\u001b[0m not_found \u001b[39m=\u001b[39m \u001b[39mlist\u001b[39m(ensure_index(key)[missing_mask\u001b[39m.\u001b[39mnonzero()[\u001b[39m0\u001b[39m]]\u001b[39m.\u001b[39munique())\n\u001b[1;32m   6178\u001b[0m \u001b[39mraise\u001b[39;00m \u001b[39mKeyError\u001b[39;00m(\u001b[39mf\u001b[39m\u001b[39m\"\u001b[39m\u001b[39m{\u001b[39;00mnot_found\u001b[39m}\u001b[39;00m\u001b[39m not in index\u001b[39m\u001b[39m\"\u001b[39m)\n",
      "\u001b[0;31mKeyError\u001b[0m: \"None of [Index([    0,     1,     2,     3,     4,     5,     6,     7,     9,    10,\\n       ...\\n       18957, 18958, 18959, 18961, 18962, 18964, 18965, 18967, 18968, 18969],\\n      dtype='int64', length=15176)] are in the [columns]\""
     ]
    }
   ],
   "source": [
    "FOLD = 5\n",
    "NUM_ROUND = 1000\n",
    "\n",
    "params = {\n",
    "    'objective': 'binary'\n",
    "}\n",
    "\n",
    "valid_scores = []\n",
    "models = []\n",
    "\n",
    "kf = KFold(n_splits=FOLD, shuffle=True, random_state=0)\n",
    "\n",
    "for fold, (train_indices, valid_indices) in enumerate(kf.split(X_train)):\n",
    "    print(fold, train_indices, valid_indices)\n",
    "    X_t, X_v = X_train[train_indices], X_train[valid_indices]\n",
    "    y_t, y_v = y_train[train_indices], y_train[valid_indices]\n",
    "\n",
    "    lgb_train = lgb.Dataset(X_t, y_t, categorical_feature=categorical_features)\n",
    "    lgb_eval = lgb.Dataset(X_v, y_v, categorical_feature=categorical_features)\n",
    "    \n",
    "    model = lgb.train(params, lgb_train, valid_sets=[lgb_train, lgb_eval], num_boost_round=1000, callbacks=[lgb.early_stopping(stopping_rounds=10, verbose=True), lgb.log_evaluation(0)])\n",
    "\n",
    "    y_valid_pred = model.predict(X_v)\n",
    "\n",
    "    score = mean_absolute_error(y_v, y_valid_pred)\n",
    "\n",
    "    print(f'fold {fold}, MAE: {score}')\n",
    "    valid_scores.append(score)\n",
    "    models.append(model)\n",
    "\n",
    "cv_score = np.mean(valid_scores)\n",
    "print('CV score: {cv_score}')"
   ]
  }
 ],
 "metadata": {
  "kernelspec": {
   "display_name": "env",
   "language": "python",
   "name": "python3"
  },
  "language_info": {
   "codemirror_mode": {
    "name": "ipython",
    "version": 3
   },
   "file_extension": ".py",
   "mimetype": "text/x-python",
   "name": "python",
   "nbconvert_exporter": "python",
   "pygments_lexer": "ipython3",
   "version": "3.10.12"
  }
 },
 "nbformat": 4,
 "nbformat_minor": 2
}
